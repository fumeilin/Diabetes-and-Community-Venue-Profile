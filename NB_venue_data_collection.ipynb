{
 "cells": [
  {
   "cell_type": "markdown",
   "metadata": {},
   "source": [
    "### Collect Venue data from FourSquare:\n",
    ". check FourSquare website for more info (https://developer.foursquare.com/docs/api)"
   ]
  },
  {
   "cell_type": "code",
   "execution_count": 1,
   "metadata": {},
   "outputs": [],
   "source": [
    "import pandas as pd \n",
    "import numpy as np "
   ]
  },
  {
   "cell_type": "code",
   "execution_count": 2,
   "metadata": {},
   "outputs": [],
   "source": [
    "%matplotlib inline \n",
    "import matplotlib as mpl\n",
    "import matplotlib.pyplot as plt"
   ]
  },
  {
   "cell_type": "markdown",
   "metadata": {},
   "source": [
    "### 1. start here with a list of US counties"
   ]
  },
  {
   "cell_type": "code",
   "execution_count": 3,
   "metadata": {},
   "outputs": [
    {
     "data": {
      "text/html": [
       "<div>\n",
       "<style scoped>\n",
       "    .dataframe tbody tr th:only-of-type {\n",
       "        vertical-align: middle;\n",
       "    }\n",
       "\n",
       "    .dataframe tbody tr th {\n",
       "        vertical-align: top;\n",
       "    }\n",
       "\n",
       "    .dataframe thead th {\n",
       "        text-align: right;\n",
       "    }\n",
       "</style>\n",
       "<table border=\"1\" class=\"dataframe\">\n",
       "  <thead>\n",
       "    <tr style=\"text-align: right;\">\n",
       "      <th></th>\n",
       "      <th>countyid</th>\n",
       "      <th>rank</th>\n",
       "      <th>st</th>\n",
       "      <th>county</th>\n",
       "      <th>highrate</th>\n",
       "      <th>address</th>\n",
       "      <th>lat</th>\n",
       "      <th>lng</th>\n",
       "    </tr>\n",
       "  </thead>\n",
       "  <tbody>\n",
       "    <tr>\n",
       "      <th>0</th>\n",
       "      <td>0500000US16055</td>\n",
       "      <td>44</td>\n",
       "      <td>ID</td>\n",
       "      <td>Kootenai</td>\n",
       "      <td>0</td>\n",
       "      <td>Kootenai County, ID</td>\n",
       "      <td>47.654857</td>\n",
       "      <td>-116.716292</td>\n",
       "    </tr>\n",
       "    <tr>\n",
       "      <th>1</th>\n",
       "      <td>0500000US01073</td>\n",
       "      <td>47</td>\n",
       "      <td>AL</td>\n",
       "      <td>Jefferson</td>\n",
       "      <td>0</td>\n",
       "      <td>Jefferson County, AL</td>\n",
       "      <td>33.522818</td>\n",
       "      <td>-86.916451</td>\n",
       "    </tr>\n",
       "    <tr>\n",
       "      <th>2</th>\n",
       "      <td>0500000US44003</td>\n",
       "      <td>4</td>\n",
       "      <td>RI</td>\n",
       "      <td>Kent</td>\n",
       "      <td>0</td>\n",
       "      <td>Kent County, RI</td>\n",
       "      <td>41.672291</td>\n",
       "      <td>-71.602762</td>\n",
       "    </tr>\n",
       "    <tr>\n",
       "      <th>3</th>\n",
       "      <td>0500000US27037</td>\n",
       "      <td>55</td>\n",
       "      <td>MN</td>\n",
       "      <td>Dakota</td>\n",
       "      <td>0</td>\n",
       "      <td>Dakota County, MN</td>\n",
       "      <td>44.666655</td>\n",
       "      <td>-93.044911</td>\n",
       "    </tr>\n",
       "    <tr>\n",
       "      <th>4</th>\n",
       "      <td>0500000US41047</td>\n",
       "      <td>26</td>\n",
       "      <td>OR</td>\n",
       "      <td>Marion</td>\n",
       "      <td>0</td>\n",
       "      <td>Marion County, OR</td>\n",
       "      <td>44.896442</td>\n",
       "      <td>-122.720325</td>\n",
       "    </tr>\n",
       "  </tbody>\n",
       "</table>\n",
       "</div>"
      ],
      "text/plain": [
       "         countyid  rank  st     county  highrate               address  \\\n",
       "0  0500000US16055    44  ID   Kootenai         0   Kootenai County, ID   \n",
       "1  0500000US01073    47  AL  Jefferson         0  Jefferson County, AL   \n",
       "2  0500000US44003     4  RI       Kent         0       Kent County, RI   \n",
       "3  0500000US27037    55  MN     Dakota         0     Dakota County, MN   \n",
       "4  0500000US41047    26  OR     Marion         0     Marion County, OR   \n",
       "\n",
       "         lat         lng  \n",
       "0  47.654857 -116.716292  \n",
       "1  33.522818  -86.916451  \n",
       "2  41.672291  -71.602762  \n",
       "3  44.666655  -93.044911  \n",
       "4  44.896442 -122.720325  "
      ]
     },
     "execution_count": 3,
     "metadata": {},
     "output_type": "execute_result"
    }
   ],
   "source": [
    "dfa = pd.read_csv(\"C:\\\\Users\\\\fumei_000\\\\Documents\\\\DSprojects\\\\DM_VenueProfiles\\\\county_120.csv\")\n",
    "dfa.head()"
   ]
  },
  {
   "cell_type": "markdown",
   "metadata": {},
   "source": [
    "### 2. retrieve nearby venue data for each County - calling FourSquare API  "
   ]
  },
  {
   "cell_type": "code",
   "execution_count": 8,
   "metadata": {},
   "outputs": [],
   "source": [
    "import requests\n",
    "\n",
    "from IPython.display import Image \n",
    "from IPython.core.display import HTML \n",
    "    \n",
    "from pandas.io.json import json_normalize"
   ]
  },
  {
   "cell_type": "code",
   "execution_count": 9,
   "metadata": {},
   "outputs": [],
   "source": [
    "CLIENT_ID = 'xxxxx' # your Foursquare ID\n",
    "CLIENT_SECRET = 'xxxxx' # your Foursquare Secret\n",
    "VERSION = '20180604'"
   ]
  },
  {
   "cell_type": "code",
   "execution_count": 10,
   "metadata": {},
   "outputs": [],
   "source": [
    "# define a function to repeat same process to all loc_id\n",
    "# not all listings have all items (eg. some missing postalCode, categories) \n",
    "def getNearbyHealthyVenues(loc_ids, latitudes, longitudes, search_query):\n",
    "    \n",
    "    radius= 50000 # m, about 30 mi\n",
    "    LIMIT = 500 \n",
    "    \n",
    "    venues_list=[]\n",
    "    for loc_id, lat, lng in zip(loc_ids, latitudes, longitudes):            \n",
    "               \n",
    "        url = 'https://api.foursquare.com/v2/venues/search?client_id={}&client_secret={}&ll={},{}&v={}&query={}&radius={}&limit={}'.format(CLIENT_ID, CLIENT_SECRET, lat, lng, VERSION, search_query, radius, LIMIT)\n",
    "    \n",
    "        #results = requests.get(url).json()[\"response\"]['groups'][0]['items']\n",
    "        results = requests.get(url).json()         \n",
    "        ven = results[\"response\"]['venues']\n",
    "         \n",
    "        #print(loc_id)\n",
    "        \n",
    "        for v in ven:\n",
    "            venueid = v['id']\n",
    "            venue = v['name']\n",
    "            vlat = v['location']['lat']\n",
    "            vlng = v['location']['lng']\n",
    "            vstate = get_alt_state(v)  \n",
    "            vcategory = get_alt_category(v) \n",
    "            venues_list.append([loc_id,venueid,venue,vlat,vlng,vstate,vcategory])\n",
    "            \n",
    "    vcolumns = ['loc_id','venueid','venue','latitude','longitude','state','category']\n",
    "    nearby_venues = pd.DataFrame(data = venues_list, columns = vcolumns)\n",
    "            \n",
    "    return(nearby_venues)"
   ]
  },
  {
   "cell_type": "code",
   "execution_count": 11,
   "metadata": {},
   "outputs": [],
   "source": [
    "# define a function that extracts the category of the venue\n",
    "def get_alt_category(row):\n",
    "    try:\n",
    "        category = row['categories'][0]['name']\n",
    "    except:\n",
    "        category = 'None'\n",
    "        \n",
    "    return category"
   ]
  },
  {
   "cell_type": "code",
   "execution_count": 12,
   "metadata": {},
   "outputs": [],
   "source": [
    "# define a function that extracts the category of the venue\n",
    "def get_alt_state(row):\n",
    "    try:\n",
    "        state = row['location']['state']\n",
    "    except:\n",
    "        state = ''\n",
    "        \n",
    "    return state"
   ]
  },
  {
   "cell_type": "code",
   "execution_count": null,
   "metadata": {},
   "outputs": [],
   "source": [
    "# search with 10 key words \n",
    "# 950 free regular API calls per day\n",
    "searches = ['health','Athletics','yoga','park','market','burger','BBQ','mcdonald','donuts','fitness']  \n",
    "for i in range (0, 7):\n",
    "    search_term = searches[i]\n",
    "    venues = getNearbyHealthyVenues(loc_ids = dfa['countyid'],\n",
    "                                   latitudes = dfa['lat'],\n",
    "                                   longitudes = dfa['lng'], search_query = search_term)    \n",
    "    if (i == 0):\n",
    "        us_venues = venues\n",
    "    else:\n",
    "        us_venues = pd.concat([us_venues, venues], axis=0)\n",
    "        \n",
    "    print(search_term)\n",
    "    print(venues.shape)"
   ]
  },
  {
   "cell_type": "markdown",
   "metadata": {},
   "source": [
    "### 3. process venue data "
   ]
  },
  {
   "cell_type": "code",
   "execution_count": 21,
   "metadata": {},
   "outputs": [],
   "source": [
    "# remove duplicates\n",
    "us_venues = us_venues.drop_duplicates(keep='first', inplace=False)"
   ]
  },
  {
   "cell_type": "markdown",
   "metadata": {},
   "source": [
    "That's all venue data within 30 mi, for 120 counties"
   ]
  },
  {
   "cell_type": "code",
   "execution_count": 29,
   "metadata": {},
   "outputs": [
    {
     "name": "stdout",
     "output_type": "stream",
     "text": [
      "(28354,)\n",
      "24469\n"
     ]
    }
   ],
   "source": [
    "# some overlap between counties, and that's ok\n",
    "ds = us_venues\n",
    "print(ds.shape)\n",
    "print(ds['venueid'].nunique())"
   ]
  },
  {
   "cell_type": "code",
   "execution_count": 22,
   "metadata": {},
   "outputs": [],
   "source": [
    "ds.rename(columns={'loc_id':'countyid'}, inplace=True)\n",
    "ds.to_csv(\"xxxxx\", index=False) # save results as file"
   ]
  },
  {
   "cell_type": "code",
   "execution_count": 4,
   "metadata": {},
   "outputs": [
    {
     "name": "stdout",
     "output_type": "stream",
     "text": [
      "There are 519 uniques categories.\n"
     ]
    }
   ],
   "source": [
    "print('There are {} uniques categories.'.format(len(ds['category'].unique())))\n",
    "cat = ds[['venueid','category']].groupby(['category'],as_index=False).count()\n",
    "cat.columns = ['category','v_count']"
   ]
  }
 ],
 "metadata": {
  "kernelspec": {
   "display_name": "Python 3",
   "language": "python",
   "name": "python3"
  },
  "language_info": {
   "codemirror_mode": {
    "name": "ipython",
    "version": 3
   },
   "file_extension": ".py",
   "mimetype": "text/x-python",
   "name": "python",
   "nbconvert_exporter": "python",
   "pygments_lexer": "ipython3",
   "version": "3.7.3"
  }
 },
 "nbformat": 4,
 "nbformat_minor": 4
}
